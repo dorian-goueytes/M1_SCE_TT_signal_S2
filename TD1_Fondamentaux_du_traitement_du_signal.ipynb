{
  "nbformat": 4,
  "nbformat_minor": 0,
  "metadata": {
    "colab": {
      "provenance": [],
      "toc_visible": true,
      "authorship_tag": "ABX9TyOXTALdOPSffdBUSmUoQxqh",
      "include_colab_link": true
    },
    "kernelspec": {
      "name": "python3",
      "display_name": "Python 3"
    },
    "language_info": {
      "name": "python"
    }
  },
  "cells": [
    {
      "cell_type": "markdown",
      "metadata": {
        "id": "view-in-github",
        "colab_type": "text"
      },
      "source": [
        "<a href=\"https://colab.research.google.com/github/dorian-goueytes/M1_SCE_TT_signal_S2/blob/main/TD1_Fondamentaux_du_traitement_du_signal.ipynb\" target=\"_parent\"><img src=\"https://colab.research.google.com/assets/colab-badge.svg\" alt=\"Open In Colab\"/></a>"
      ]
    },
    {
      "cell_type": "markdown",
      "source": [
        "# Introduction :\n",
        "\n",
        "L'objectif de ce TD est de mettre en pratique les bases de traitement du signal vues durant les CM1 et CM2.\n",
        "\n",
        "## Structure et objectif :\n",
        "\n",
        "Chaque section est constituée de un ou plusieurs exercices dont l'objectif est d'implémenter vous-même des concepts issus du cours (Ondes pures, ondes composites, échantillonnage, Transformée de Fourier Discrète...).\n",
        "\n",
        "Vous êtes encouragé.es à tenter de développer votre propre réponse aux consignes de chaques exercices. Vous pouvez solliciter l'aide du professeur pour cela.\n",
        "\n",
        "Si l'exercice vous parait trop complexe vous pouvez regarder la solution proposée, et essayer de comprendre et de reproduire son fonctionnement.\n",
        "\n",
        "Validez avec le professeur votre solution/compréhension de la solution avant de passer à l'exercice suivant.\n",
        "\n",
        "## Dos and Don'ts :\n",
        "\n",
        "\n",
        "*   Vous êtes encouragé.es à travailler en binôme/trinôme et à échanger entre vous\n",
        "*   Vous êtes encouragé.es à utiliser vos notes de cours.\n",
        "*   Vous pouvez faire des recherches web et utiliser Stack Overflow pour alimenter vos réponses.\n",
        "*   **ChatGPT ou tout autre LLM sont strictement interdit**\n",
        "\n",
        "L'objectif du TD est de vous mettre en position de réfléchir activement à des questions de traitement du signal **ET** de développer votre autonomie en Python. Chaque exercice peut aisément être résolu par ChatGPT, mais votre apprentissage en sera diminué.\n",
        "\n",
        "Les solutions aux exercices sont fournies dans le document, et vous êtes **très fortement encouragé.es à solliciter le professeur** en cas de blocage/difficulté à comprendre un exercice."
      ],
      "metadata": {
        "id": "nSk3IER8OH1G"
      }
    },
    {
      "cell_type": "markdown",
      "source": [
        "# Importation des bibliothèques Python nécessaires\n",
        "\n",
        "Il existe de nombreuses bibliothèques Python dédiés au traitement du signal. L'objectif aujourd'hui d'implémenter nous même des algorithmes de traitement du signal, et nous n'utiliserons donc pas ces bibliothèques, sauf à des fins de vérification"
      ],
      "metadata": {
        "id": "pTiQzGs0RXc9"
      }
    },
    {
      "cell_type": "code",
      "execution_count": null,
      "metadata": {
        "id": "sni1n76_N9ZQ"
      },
      "outputs": [],
      "source": [
        "import math\n",
        "import matplotlib.pyplot as plt\n",
        "import numpy as np"
      ]
    },
    {
      "cell_type": "markdown",
      "source": [
        "# Création et échantillonage de signaux sinusoïdaux simples\n",
        "\n",
        "#### L'objectif de ce segment est de créer et de manipuler des signaux périodiques simples (ondes sinusoïdales pures)"
      ],
      "metadata": {
        "id": "f2MSP_UpR1ab"
      }
    },
    {
      "cell_type": "markdown",
      "source": [
        "## Créer une onde pure de fréquence, amplitude et phase données"
      ],
      "metadata": {
        "id": "rINDr7lkSRR1"
      }
    },
    {
      "cell_type": "markdown",
      "source": [
        "### Exercice 1 : Construire une sinusoïde\n",
        "\n",
        "En utilisant la formule trigonométrique du cours, écrire une segment de code générant une sinusoïde pure de fréquence 8 Hz et d'amplitude 1.2.\n",
        "\n",
        "Créez un graph réprésentant cette onde sur une période de 1s\n",
        "\n",
        "![Capture d'écran 2025-03-17 170600.png](data:image/png;base64,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)"
      ],
      "metadata": {
        "id": "g51xobCUSk0y"
      }
    },
    {
      "cell_type": "code",
      "source": [
        "# Ecrivez votre code ici"
      ],
      "metadata": {
        "id": "eRs8VlSsSPkp"
      },
      "execution_count": null,
      "outputs": []
    },
    {
      "cell_type": "markdown",
      "source": [
        "#### Solution"
      ],
      "metadata": {
        "id": "8CvXIH_lTjCf"
      }
    },
    {
      "cell_type": "code",
      "source": [
        "## Paramètres requis\n",
        "amp = 1.2 # amplitude requise par l'énoncé\n",
        "freq = 8 # Fréquence requise par l'énoncé\n",
        "duration = 1  # Durée requise par l'énoncé\n",
        "\n",
        "fe = 1000  #nombre d'échantillons par seconde\n",
        "time = np.linspace(0, duration, int(fe*duration))#temps discret de chaque échantillon\n",
        "\n",
        "## Formulation explicite basé sur la fonction trigonométrique\n",
        "sinu = []\n",
        "for t in time:\n",
        "  sinu.append(amp * math.sin(2 * math.pi * freq * t)) # basé sur la formule : A(t) = Amp * sin(2pi*Freq*t)\n",
        "\n",
        "## La boucle for ci-dessus peut-être écrit d'une manière plus compacte (méthode par \"list comprehension\"):\n",
        "sinu = [amp * math.sin(2 * math.pi * freq * t) for t in time]\n",
        "\n",
        "# Bonus : Formulation alternative basée sur une notation en nombre complexe (cf. Transformée de Fourier Discrète)\n",
        "sinu_comp = [amp * np.imag(np.exp(1j * (2 * np.pi * freq * t))) for t in time]\n",
        "\n",
        "## Création d'une visualisation\n",
        "plt.figure() # Création d'une figure vide\n",
        "plt.plot(time, sinu, label = 'Formulation Trigo.') # Plot notre variable sinu en fonction de la variable time\n",
        "plt.plot(time, sinu_comp, label = 'Formulation Com.', linestyle = '--')\n",
        "plt.xlabel (\"Temps (s)\")\n",
        "plt.ylabel(\"Amplitude\")\n",
        "plt.title(f\"Sine Wave (Freq.: {freq} Hz, Amp.: {amp}, Duration: {duration} sec)\")\n",
        "plt.grid()\n",
        "plt.legend()\n",
        "plt.show() # Montre la figure"
      ],
      "metadata": {
        "id": "vbKppNzCTT5w"
      },
      "execution_count": null,
      "outputs": []
    },
    {
      "cell_type": "markdown",
      "source": [
        "### Exercice 2 : Créer une fonction pour construire une sinusoïde arbitraire\n",
        "\n",
        "Ecrivez une fonction ayant pour argument une fréquence, une amplitude et une durée et retournant un graph de la sinusoïde correspondante."
      ],
      "metadata": {
        "id": "_-jSVUYsbJtb"
      }
    },
    {
      "cell_type": "code",
      "source": [
        "# Ecrivez votre code ici"
      ],
      "metadata": {
        "id": "heUki2v1bJH1"
      },
      "execution_count": null,
      "outputs": []
    },
    {
      "cell_type": "markdown",
      "source": [
        "#### Solution"
      ],
      "metadata": {
        "id": "tTDQuftkbaDy"
      }
    },
    {
      "cell_type": "code",
      "source": [
        "def plot_sine(freq = 1, amp = 1, duration = 1, fe = 1000):\n",
        "\n",
        "  # Axe temporel\n",
        "  time = np.linspace(0, duration, int(fe*duration))#temps discret de chaque échantillon\n",
        "\n",
        "  # Compute a sine wave based on trigo formulation\n",
        "  sinu = [amp * math.sin(2 * math.pi * freq * t) for t in time]\n",
        "\n",
        "  ## Création d'une visualisation\n",
        "  plt.figure()\n",
        "  plt.plot(time, sinu)\n",
        "  plt.xlabel(\"Time (s)\")\n",
        "  plt.ylabel(\"Amplitude\")\n",
        "  plt.title(f\"Sine Wave (Freq.: {freq} Hz, Amp.: {amp}, Duration: {duration} sec)\")\n",
        "  plt.grid()\n",
        "  plt.show()\n",
        "\n",
        "# Using function with default arguments\n",
        "plot_sine()\n",
        "\n",
        "# Using function with arbitrary arguments\n",
        "plot_sine(2.3, 5, 2.5, 1000)"
      ],
      "metadata": {
        "id": "M1gEtfA6bcXb"
      },
      "execution_count": null,
      "outputs": []
    },
    {
      "cell_type": "markdown",
      "source": [
        "## Manipuler deux ondes pures, simuler différentes fréquences d'échantillonage"
      ],
      "metadata": {
        "id": "F4O4yOmcmGVf"
      }
    },
    {
      "cell_type": "markdown",
      "source": [
        "### Exercice 3 : Manipulation de la phase\n",
        "\n",
        "Créer deux sinusoïdes ayant les même propriétés (fréquence et amplitude identiques) mais des phases différentes\n",
        "\n",
        "![Capture d'écran 2025-03-17 170429.png](data:image/png;base64,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)"
      ],
      "metadata": {
        "id": "11oUIuLgdSUD"
      }
    },
    {
      "cell_type": "code",
      "source": [
        "# Ecrivez votre code ici"
      ],
      "metadata": {
        "id": "NggzFWnzdcYS"
      },
      "execution_count": null,
      "outputs": []
    },
    {
      "cell_type": "markdown",
      "source": [
        "#### Solution"
      ],
      "metadata": {
        "id": "NRc0-MIKdc9v"
      }
    },
    {
      "cell_type": "code",
      "source": [
        "## Paramètres requis\n",
        "amp = 2 # amplitude requise par l'énoncé\n",
        "freq = 4 # Fréquence requise par l'énoncé\n",
        "duration = 1  # Durée requise par l'énoncé\n",
        "\n",
        "fe = 1000  #nombre d'échantillons par seconde\n",
        "time = np.linspace(0, duration, int(fe*duration))#temps discret de chaque échantillon\n",
        "phase_shift_deg = 90  # Phase shift in degrees\n",
        "phase_shift_rad = np.deg2rad(phase_shift_deg)  # Convert degrees to radians\n",
        "\n",
        "\n",
        "# Compute sine waves using trigonometric formulation\n",
        "sine_wave_1 = amp * np.sin(2 * np.pi * freq * t)  # No phase shift\n",
        "sine_wave_2 = amp * np.sin(2 * np.pi * freq * t + phase_shift_rad)  # With phase shift\n",
        "\n",
        "# Plot\n",
        "plt.figure()\n",
        "plt.plot(t, sine_wave_1, label=\"Sine Wave (0 Phase)\")\n",
        "plt.plot(t, sine_wave_2, linestyle=\"dashed\", label=f\"Sine Wave ({phase_shift_deg:.2f} Phase Shift (Degree)\")\n",
        "plt.xlabel(\"Time (s)\")\n",
        "plt.ylabel(\"Amplitude\")\n",
        "plt.title(f\"Two Identical Sine Waves with {phase_shift_deg:.2f} Phase Shift (Degree)\")\n",
        "plt.legend()\n",
        "plt.grid()\n",
        "\n",
        "plt.show()\n"
      ],
      "metadata": {
        "id": "BZDGsuOedtFF"
      },
      "execution_count": null,
      "outputs": []
    },
    {
      "cell_type": "markdown",
      "source": [
        "#### Question : Quelle valeur de phase shift (en degrés) faudrait-il utiliser pour que nos deux sinusoïdes soient en antiphase?"
      ],
      "metadata": {
        "id": "eGwS5Nf9fcCu"
      }
    },
    {
      "cell_type": "markdown",
      "source": [
        "### Exercice 4 : Sous-échantillonnage\n",
        "\n",
        "Jusqu'ici nous avons par défaut supposé que notre fréquence d'échantillonnage était de 1000 Hz (notre variable \"sinu\" contenait 1000 points pour chaques secondes dans la valeur \"duration)\n",
        "\n",
        "En vous basant sur les exercices précédants, créez et faites un graph d'une sinusoïde échantillonnée à 200 Hz.\n",
        "\n",
        "Dans un second temps, ré-échantillonnez cette sinusoïde à 100 Hz puis 40 Hz"
      ],
      "metadata": {
        "id": "_XiNA4oTfw39"
      }
    },
    {
      "cell_type": "code",
      "source": [
        "# Ecrivez votre code ici"
      ],
      "metadata": {
        "id": "hrwJCpC2ggwf"
      },
      "execution_count": null,
      "outputs": []
    },
    {
      "cell_type": "markdown",
      "source": [
        "#### Solution"
      ],
      "metadata": {
        "id": "Uq_M-ZJCghLH"
      }
    },
    {
      "cell_type": "code",
      "source": [
        "## Paramètres requis\n",
        "amp = 1.2 # amplitude requise par l'énoncé\n",
        "freq = 8 # Fréquence requise par l'énoncé\n",
        "duration = 1  # Durée requise par l'énoncé\n",
        "\n",
        "fe = 200  #nombre d'échantillons par seconde\n",
        "time = np.linspace(0, duration, int(fe*duration))#temps discret de chaque échantillon\n",
        "\n",
        "\n",
        "## La boucle for ci-dessus peut-être écrit d'une manière plus compacte (méthode par \"list comprehension\"):\n",
        "sinu = [amp * math.sin(2 * math.pi * freq * t) for t in time] # Signal original\n",
        "\n",
        "\n",
        "## Création d'une visualisation\n",
        "fig, (ax1, ax2, ax3) = plt.subplots(3,1)#, sharex=True) # Création d'une figure vide avec 3 subplots\n",
        "\n",
        "## Graph du signal original\n",
        "ax1.plot(time, sinu, marker = 'o', label=\"Original Signal\") # Plot notre variable sinu en fonction de la variable time\n",
        "ax1.set_ylabel(\"Amplitude\")\n",
        "ax1.legend()\n",
        "ax1.grid()\n",
        "\n",
        "## Ré-échantillonnage à 100 Hz\n",
        "rescale = 100\n",
        "factor = fe / rescale  # Compute scaling factor\n",
        "resampled_data = []\n",
        "resample_index = np.arange(0, fe,factor)\n",
        "for i in resample_index:\n",
        "    resampled_data.append(sinu[int(i)])\n",
        "time = np.linspace(0, duration, int(rescale*duration))\n",
        "ax2.plot(time, resampled_data, marker = 'o', label=f\"Resampled at {rescale} Hz\")\n",
        "ax2.set_ylabel(\"Amplitude\")\n",
        "ax2.legend()\n",
        "ax2.grid()\n",
        "\n",
        "\n",
        "## Ré-échantillonnage à 70 Hz\n",
        "rescale = 40\n",
        "factor = fe / rescale  # Compute scaling factor\n",
        "resampled_data = []\n",
        "resample_index = np.arange(0, fe,factor)\n",
        "for i in resample_index:\n",
        "    resampled_data.append(sinu[int(i)])\n",
        "time = np.linspace(0, duration, int(rescale*duration))\n",
        "ax3.plot(time, resampled_data, marker = 'o', label=f\"Resampled at {rescale} Hz\")\n",
        "ax3.set_ylabel(\"Amplitude\")\n",
        "ax3.legend()\n",
        "ax3.grid()\n",
        "ax3.set_xlabel (\"Temps (s)\")\n",
        "plt.suptitle(f\"Sine Wave (Freq.: {freq} Hz, Amp.: {amp}, Duration: {duration} sec)\")\n",
        "\n",
        "plt.tight_layout()\n",
        "plt.show()"
      ],
      "metadata": {
        "id": "ufuExtOUgjCL"
      },
      "execution_count": null,
      "outputs": []
    },
    {
      "cell_type": "markdown",
      "source": [
        "# Création et échantillonages de signaux sinusoïdaux complexes\n",
        "\n",
        "L'objectif de ce segment est de comprendre comment des signaux complexes peuvent être le résultats de la somme ou de la concatenation d'un certain nombre de sinusoïdes pures"
      ],
      "metadata": {
        "id": "G63Kl8IuSZev"
      }
    },
    {
      "cell_type": "markdown",
      "source": [
        "## Création de signaux composites"
      ],
      "metadata": {
        "id": "GJV8YefFm0JK"
      }
    },
    {
      "cell_type": "markdown",
      "source": [
        "### Exercice 5 : Créer un signal composite\n",
        "\n",
        "En vous basant sur les exercices précédents, construire dans un premier temps deux sinusoïdes pure de fréquence 10 et 2 Hz, d'amplitude 2 et 10 sans décalage de phase.\n",
        "\n",
        "Ensuite combinez ces deux sinusoïdes pures pour créer un signal composite"
      ],
      "metadata": {
        "id": "ql1lTA1zm4oC"
      }
    },
    {
      "cell_type": "code",
      "source": [
        "# Ecrivez votre code ici"
      ],
      "metadata": {
        "id": "IwpJZ-xinbVu"
      },
      "execution_count": null,
      "outputs": []
    },
    {
      "cell_type": "markdown",
      "source": [
        "#### Solution"
      ],
      "metadata": {
        "id": "GPhqTFT9nXZM"
      }
    },
    {
      "cell_type": "code",
      "source": [
        "def create_sine(freq = 1, amp = 1, duration = 1, fe = 1000):\n",
        "\n",
        "  # Axe temporel\n",
        "  time = np.linspace(0, duration, int(fe*duration))#temps discret de chaque échantillon\n",
        "\n",
        "  return np.array([amp * math.sin(2 * math.pi * freq * t) for t in time])\n",
        "\n",
        "duration = 1\n",
        "fe = 1000\n",
        "sin1 = create_sine(10,2, duration, fe)\n",
        "sin2 = create_sine(2,10, duration, fe)\n",
        "sin_composite = sin1+sin2\n",
        "\n",
        "time = np.linspace(0,duration, fe)\n",
        "fig, (ax1, ax2) = plt.subplots(2,1, sharex = True)\n",
        "ax1.plot(time, sin1, label = 'Sine at 10Hz, amp. 2')\n",
        "ax1.plot(time, sin2, label = 'Sine at 2Hz, amp. 10')\n",
        "ax1.grid()\n",
        "ax1.set_ylabel(\"Amplitude\")\n",
        "ax1.legend()\n",
        "\n",
        "ax2.plot(time, sin1, label = 'Sine at 10Hz, amp. 2', alpha = 0.3)\n",
        "ax2.plot(time, sin2, label = 'Sine at 3Hz, amp. 10', alpha = 0.3)\n",
        "ax2.plot(time, sin_composite, label = 'Signal composite')\n",
        "ax2.grid()\n",
        "ax2.set_ylabel(\"Amplitude\")\n",
        "ax2.set_xlabel(\"Temps (s)\")\n",
        "ax2.legend()\n",
        "\n",
        "plt.tight_layout()\n",
        "plt.show()"
      ],
      "metadata": {
        "id": "dbAIjz9XSd8n"
      },
      "execution_count": null,
      "outputs": []
    },
    {
      "cell_type": "markdown",
      "source": [
        "#### Question : Selon vous quelle est la fréquence dominante dans le signal composite? Pourquoi?"
      ],
      "metadata": {
        "id": "WXwUP2j8p95r"
      }
    },
    {
      "cell_type": "code",
      "source": [
        "# Ecrivez votre réponse ici"
      ],
      "metadata": {
        "id": "IFjrybWI3IAj"
      },
      "execution_count": null,
      "outputs": []
    },
    {
      "cell_type": "markdown",
      "source": [
        "### Exercice 6 : Vérifier la stationnarité d'un signal composite\n",
        "\n",
        "Le signal composite de l'exercice précédent est-il stationnaire? En simulant ce même signal sur une durée de 10 secondes, prouvez sa stationnarité au cours du temps"
      ],
      "metadata": {
        "id": "Ofi-qM5mQPNw"
      }
    },
    {
      "cell_type": "code",
      "source": [
        "# Ecrivez votre code ici"
      ],
      "metadata": {
        "id": "7q2Gzx9lQmQo"
      },
      "execution_count": null,
      "outputs": []
    },
    {
      "cell_type": "markdown",
      "source": [
        "#### Solution"
      ],
      "metadata": {
        "id": "_0sOHJdIQoqR"
      }
    },
    {
      "cell_type": "code",
      "source": [
        "## Dans un premier temps nous reconstruisons le signal composite sur une durée de 10 secondes\n",
        "def create_sine(freq = 1, amp = 1, duration = 1, fe = 1000):\n",
        "\n",
        "  # Axe temporel\n",
        "  time = np.linspace(0, duration, int(fe*duration))#temps discret de chaque échantillon\n",
        "\n",
        "  return np.array([amp * math.sin(2 * math.pi * freq * t) for t in time])\n",
        "\n",
        "duration = 10\n",
        "fe = 1000\n",
        "sin1 = create_sine(10,2, duration, fe)\n",
        "sin2 = create_sine(2,10, duration, fe)\n",
        "sin_composite = sin1+sin2\n",
        "\n",
        "## Stationnarité : Un signal est considéré stationnaire si sa moyenne et son écart type sont constantes au cours du temps\n",
        "## Nous pouvons donc vérifier la stationnarité du signal en calculant à chaque seconde la moyenne et la écart type\n",
        "interval = np.arange(0,fe*duration, fe)\n",
        "mean_over_time =  []\n",
        "std_over_time = []\n",
        "for period in range(0, duration):\n",
        "  index = [period*fe, (period+1)*fe]\n",
        "  mean_over_time.append(np.mean(sin_composite[index[0]:index[1]]))\n",
        "  std_over_time.append(np.std((sin_composite[index[0]:index[1]])))\n",
        "\n",
        "\n",
        "plt.figure()\n",
        "time = np.linspace(0,duration, fe*duration)\n",
        "plt.plot(time, sin_composite, alpha = 0.5)\n",
        "for t in range(0,duration):\n",
        "  plt.scatter(t+0.5, mean_over_time[t], marker = 's', s = 70, color = 'darkred')\n",
        "  plt.errorbar(t+0.5, mean_over_time[t], yerr=std_over_time[t], color = 'darkred')\n",
        "  plt.axvline(t, color = 'darkred', linestyle = '--', alpha = 0.3)\n",
        "  plt.axvline(t+1, color = 'darkred', linestyle = '--', alpha = 0.3)\n",
        "plt.grid()\n",
        "plt.ylabel(\"Amplitude\")\n",
        "plt.xlabel(\"Temps (s)\")\n",
        "plt.legend()\n",
        "plt.tight_layout()\n",
        "plt.show()"
      ],
      "metadata": {
        "id": "TrBzpJX9QqjQ"
      },
      "execution_count": null,
      "outputs": []
    },
    {
      "cell_type": "markdown",
      "source": [
        "## Création de signaux non-stationnaires"
      ],
      "metadata": {
        "id": "WCfuljTPll9v"
      }
    },
    {
      "cell_type": "markdown",
      "source": [
        "### Exercice 7 : Créer un signal non-stationnaire\n",
        "\n",
        "en vous basant sur l'exercice précédent, créez un signal non-stationnaire de deux secondes, dont la première seconde correspond à une sinusoïde de fréquence 10, amplitude 2 et la deuxième seconde à une sinusoïde de fréquence 2 et d'amplitude 10"
      ],
      "metadata": {
        "id": "IOh32KHxx12l"
      }
    },
    {
      "cell_type": "code",
      "source": [
        "# Ecrivez votre code ici"
      ],
      "metadata": {
        "id": "LAt8zw_pZmvG"
      },
      "execution_count": null,
      "outputs": []
    },
    {
      "cell_type": "markdown",
      "source": [
        "#### Solution"
      ],
      "metadata": {
        "id": "bXnIo5UVZnVn"
      }
    },
    {
      "cell_type": "code",
      "source": [
        "def create_sine(freq = 1, amp = 1, duration = 1, fe = 1000):\n",
        "\n",
        "  # Axe temporel\n",
        "  time = np.linspace(0, duration, int(fe*duration))#temps discret de chaque échantillon\n",
        "\n",
        "  return np.array([amp * math.sin(2 * math.pi * freq * t) for t in time])\n",
        "\n",
        "duration = 1\n",
        "fe = 1000\n",
        "sin1 = create_sine(10,2, duration, fe)\n",
        "sin2 = create_sine(2,10, duration, fe)\n",
        "sin_nstat = np.concatenate((sin1, sin2))\n",
        "\n",
        "fig, (ax1, ax2) = plt.subplots(2,1)\n",
        "time = np.linspace(0,duration, fe*duration)\n",
        "ax1.plot(time, sin1)\n",
        "ax1.plot(time, sin2)\n",
        "ax1.grid()\n",
        "ax1.set_xlabel(\"Temps (s)\")\n",
        "ax1.set_ylabel(\"Amplitude\")\n",
        "\n",
        "\n",
        "time2 = np.linspace(0,duration*2, fe*duration*2)\n",
        "ax2.plot(time2, sin_nstat)\n",
        "ax2.grid()\n",
        "ax2.set_xlabel(\"Temps (s)\")\n",
        "ax2.set_ylabel(\"Amplitude\")\n",
        "\n",
        "plt.tight_layout()\n",
        "plt.show()\n"
      ],
      "metadata": {
        "id": "2hSnZAf6lpaM"
      },
      "execution_count": null,
      "outputs": []
    },
    {
      "cell_type": "markdown",
      "source": [
        "### Exercice 8 : Evaluer la non-stationnarité d'un signal\n",
        "\n",
        "De manière similaire à l'exercice 6, prolongez notre signal non-stationnaire à 10 secondes (5s 10Hz 2 amp, 5s 2Hz 10 amp) et évaluez sa stationnarité au cours du temps"
      ],
      "metadata": {
        "id": "ByDifcIyZkjU"
      }
    },
    {
      "cell_type": "code",
      "source": [
        "# Ecrivez votre code ici"
      ],
      "metadata": {
        "id": "C4U_FP7gZH59"
      },
      "execution_count": null,
      "outputs": []
    },
    {
      "cell_type": "markdown",
      "source": [
        "#### Solution"
      ],
      "metadata": {
        "id": "sU0R7upcZ_Ip"
      }
    },
    {
      "cell_type": "code",
      "source": [
        "def create_sine(freq = 1, amp = 1, duration = 1, fe = 1000):\n",
        "\n",
        "  # Axe temporel\n",
        "  time = np.linspace(0, duration, int(fe*duration))#temps discret de chaque échantillon\n",
        "\n",
        "  return np.array([amp * math.sin(2 * math.pi * freq * t) for t in time])\n",
        "\n",
        "duration = 5\n",
        "fe = 1000\n",
        "sin1 = create_sine(10,2, duration, fe)\n",
        "sin2 = create_sine(2,10, duration, fe)\n",
        "sin_nstat = np.concatenate((sin1, sin2))\n",
        "\n",
        "## Stationnarité : Un signal est considéré stationnaire si sa moyenne et son écart type sont constantes au cours du temps\n",
        "## Nous pouvons donc vérifier la stationnarité du signal en calculant à chaque seconde la moyenne et la écart type\n",
        "interval = np.arange(0,fe*duration, fe)\n",
        "mean_over_time =  []\n",
        "std_over_time = []\n",
        "for period in range(0, duration*2):\n",
        "  index = [period*fe, (period+1)*fe]\n",
        "  mean_over_time.append(np.mean(sin_nstat[index[0]:index[1]]))\n",
        "  std_over_time.append(np.std((sin_nstat[index[0]:index[1]])))\n",
        "\n",
        "\n",
        "plt.figure()\n",
        "time = np.linspace(0,duration*2, fe*duration*2)\n",
        "plt.plot(time, sin_nstat, alpha = 0.5)\n",
        "for t in range(0,duration*2):\n",
        "  plt.scatter(t+0.5, mean_over_time[t], marker = 's', s = 70, color = 'darkred')\n",
        "  plt.errorbar(t+0.5, mean_over_time[t], yerr=std_over_time[t], color = 'darkred')\n",
        "  plt.axvline(t, color = 'darkred', linestyle = '--', alpha = 0.3)\n",
        "  plt.axvline(t+1, color = 'darkred', linestyle = '--', alpha = 0.3)\n",
        "plt.grid()\n",
        "plt.ylabel(\"Amplitude\")\n",
        "plt.xlabel(\"Temps (s)\")\n",
        "plt.tight_layout()\n",
        "plt.show()"
      ],
      "metadata": {
        "id": "uywZ4BJTaAdp"
      },
      "execution_count": null,
      "outputs": []
    },
    {
      "cell_type": "markdown",
      "source": [
        "# Transformée de Fourier discrète"
      ],
      "metadata": {
        "id": "EkID6AORbam5"
      }
    },
    {
      "cell_type": "markdown",
      "source": [
        "## Création d'un signal complexe"
      ],
      "metadata": {
        "id": "v6aBp5UYfAf_"
      }
    },
    {
      "cell_type": "code",
      "source": [
        "# Parameters\n",
        "fe = 1000  # samples per second\n",
        "duration = 1       # seconds\n",
        "time = np.linspace(0,duration, fe)\n",
        "\n",
        "amp1 = 3\n",
        "freq1 = 10\n",
        "amp2 = 0.3\n",
        "freq2 = 3\n",
        "amp3 = 1\n",
        "freq3 = 25\n",
        "\n",
        "sin1 = [amp1 * math.sin(2 * math.pi * freq1 * t) for t in time]\n",
        "sin2 = [amp2 * math.sin(2 * math.pi * freq2 * t) for t in time]\n",
        "sin3 = [amp3 * math.sin(2 * math.pi * freq3 * t) for t in time]\n",
        "sin_comp = np.array(sin1)+np.array(sin2)+np.array(sin3)\n",
        "\n",
        "\n",
        "plt.figure()\n",
        "plt.plot(time, sin1, alpha = 0.3)\n",
        "plt.plot(time, sin2, alpha = 0.3)\n",
        "plt.plot(time, sin3, alpha = 0.3)\n",
        "plt.plot(time,sin_comp )\n",
        "plt.xlabel(\"Temps (s)\")\n",
        "plt.ylabel('Amplitude')\n",
        "plt.grid()\n",
        "plt.show()"
      ],
      "metadata": {
        "id": "pClNZfk8bisY"
      },
      "execution_count": null,
      "outputs": []
    },
    {
      "cell_type": "markdown",
      "source": [
        "### Exercice 9 : Décomposition du signal via Transformée de Fourier Discrète (TFD)\n",
        "\n",
        "En vous basant sur la formule données dans le cours (voir ci-dessous) et sur vos propres recherches au besoin, implémentez une transformée de fourier discrète et appliquez là au signal complexe généré ci-dessus\n",
        "\n",
        "![Capture d'écran 2025-03-17 152852.png](data:image/png;base64,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)\n"
      ],
      "metadata": {
        "id": "pxnjSmlFfo-j"
      }
    },
    {
      "cell_type": "code",
      "source": [
        "# Ecrivez votre code ici (indice : N  = K = nombre d'échantillon de notre signal complexe)"
      ],
      "metadata": {
        "id": "KiszMP1efMxT"
      },
      "execution_count": null,
      "outputs": []
    },
    {
      "cell_type": "markdown",
      "source": [
        "#### Solution"
      ],
      "metadata": {
        "id": "mg0hja3UgABs"
      }
    },
    {
      "cell_type": "code",
      "source": [
        "\n",
        "def dft(signal):\n",
        "  N = len(signal)\n",
        "  temp_TFD = []\n",
        "  for k in range(N):\n",
        "      sum = 0\n",
        "      for n in range(N):\n",
        "          sum+= signal[n]* np.exp(-1j * (2 * np.pi * k/N * n))\n",
        "      temp_TFD.append(sum)\n",
        "\n",
        "  TFD = np.array([abs(temp_TFD[k]) / (N/2) for k in range(N)])  # Normalization step\n",
        "  return TFD[0:int(N/2)]\n",
        "\n",
        "TFD = dft(sin_comp)\n",
        "plt.plot(TFD, marker = 'o')\n",
        "plt.xlim(0,30)\n",
        "plt.hlines(amp1, 0,  freq1, color = 'k', linestyle = '--')\n",
        "plt.vlines(freq1, 0,  amp1, color = 'k', linestyle = '--')\n",
        "\n",
        "plt.hlines(amp2, 0,  freq2, color = 'k', linestyle = '--')\n",
        "plt.vlines(freq2, 0,  amp2, color = 'k', linestyle = '--')\n",
        "\n",
        "plt.hlines(amp3, 0,  freq3, color = 'k', linestyle = '--')\n",
        "plt.vlines(freq3, 0,  amp3, color = 'k', linestyle = '--')\n",
        "plt.grid()\n",
        "plt.show()"
      ],
      "metadata": {
        "id": "EHvWYI1pf_gp"
      },
      "execution_count": null,
      "outputs": []
    },
    {
      "cell_type": "markdown",
      "source": [
        "### Exercice 10 : Reconstruire un signal depuis sa TFD\n",
        "\n",
        "A partir de la transformée de Fourier discrète obtenue à l'exercice précédent, extrayez les composantes pures de notre signal complexe, et reconstruisez le signal original à partir de ces informations"
      ],
      "metadata": {
        "id": "9QsJPNi1vIWm"
      }
    },
    {
      "cell_type": "code",
      "source": [
        "# Ecrivez votre code ici"
      ],
      "metadata": {
        "id": "9FHfmhiFx0x7"
      },
      "execution_count": null,
      "outputs": []
    },
    {
      "cell_type": "markdown",
      "source": [
        "#### Solution"
      ],
      "metadata": {
        "id": "mzKWyVP8x56J"
      }
    },
    {
      "cell_type": "code",
      "source": [
        "\n",
        "fig,(ax1, ax2, ax3) = plt.subplots(3,1, figsize = (12,8))\n",
        "ax1.plot(time,sin_comp)\n",
        "ax1.plot(time, sin1, alpha = 0.3)\n",
        "ax1.plot(time,sin2, alpha = 0.3)\n",
        "ax1.plot(time, sin3, alpha = 0.3)\n",
        "ax1.grid()\n",
        "ax1.set_title(\"Original signal\")\n",
        "\n",
        "\n",
        "## Extraction des composantes du signal original à partir de la transformée de Fourier\n",
        "freq_content = np.where(TFD>0.01)[0] #Le contenu fréquentiel du signal original correspond à la partie non-nulle de la TFD\n",
        "amp_content = TFD[freq_content] #Les ordonnées de la TFD correspondent à l'amplitude de chaque fréquence dans le signal original\n",
        "\n",
        "print(\"Liste des fréquences détectées : \", freq_content)\n",
        "print(\"Liste des amplitudes correspondantes : \", amp_content)\n",
        "\n",
        "recon_signal = np.zeros(len(sin_comp))# On initie un signal reconstruit de valeur constante 0 qui à le même nombre d'échantillon que le signal original\n",
        "for spec in range(0, len(freq_content)): #Pour chaque fréquence détectée par la TFD...\n",
        "  ax2.plot(time, [amp_content[spec] * math.sin(2 * math.pi * freq_content[spec] * t) for t in time], alpha = 0.3) #..on plotte une sinusoïde pure correspondant à ces caractéristiques...\n",
        "  recon_signal = recon_signal+ [amp_content[spec] * math.sin(2 * math.pi * freq_content[spec] * t) for t in time] #...et on ajoute cette sinusoïde à notre signal reconstruit\n",
        "\n",
        "ax2.plot(time, recon_signal)\n",
        "ax2.set_title(\"Reconstructed signal\")\n",
        "ax2.grid()\n",
        "\n",
        "ax3.plot(time, sin_comp)\n",
        "ax3.plot(time, recon_signal)\n",
        "ax3.plot(time, sin_comp-recon_signal, label = 'Difference between original and recon signal')\n",
        "ax3.set_title('Original and reconstructed signal overlayed')\n",
        "ax3.grid()\n",
        "ax3.legend()\n",
        "plt.tight_layout()\n",
        "plt.show()"
      ],
      "metadata": {
        "id": "J0oOMOQThclX"
      },
      "execution_count": null,
      "outputs": []
    },
    {
      "cell_type": "markdown",
      "source": [
        "#### Question : Observez-vous une différence entre le signal original et le signal reconstruit? Si oui, expliquez la cause de ce phénomène"
      ],
      "metadata": {
        "id": "qWbs6_r13Tl6"
      }
    },
    {
      "cell_type": "code",
      "source": [
        "# Ecrivez votre réponse ici"
      ],
      "metadata": {
        "id": "HzgU-mPks9DI"
      },
      "execution_count": null,
      "outputs": []
    }
  ]
}