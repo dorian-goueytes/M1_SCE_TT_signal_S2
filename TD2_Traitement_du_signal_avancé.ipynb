{
  "nbformat": 4,
  "nbformat_minor": 0,
  "metadata": {
    "colab": {
      "provenance": [],
      "toc_visible": true,
      "authorship_tag": "ABX9TyOuNLPdeOb45uQjXYYgFeEH",
      "include_colab_link": true
    },
    "kernelspec": {
      "name": "python3",
      "display_name": "Python 3"
    },
    "language_info": {
      "name": "python"
    }
  },
  "cells": [
    {
      "cell_type": "markdown",
      "metadata": {
        "id": "view-in-github",
        "colab_type": "text"
      },
      "source": [
        "<a href=\"https://colab.research.google.com/github/dorian-goueytes/M1_SCE_TT_signal_S2/blob/main/TD2_Traitement_du_signal_avanc%C3%A9.ipynb\" target=\"_parent\"><img src=\"https://colab.research.google.com/assets/colab-badge.svg\" alt=\"Open In Colab\"/></a>"
      ]
    },
    {
      "cell_type": "markdown",
      "source": [
        "# Introduction :\n",
        "\n",
        "Ce TD est la continuation du TD1. Il aborde des notions plus avancées de traitement du signal, toujours basé sur le contenu du cours.\n",
        "\n",
        "## Structure et objectif :\n",
        "\n",
        "Chaque section est constituée de un ou plusieurs exercices dont l'objectif est d'implémenter vous-même des concepts issus du cours (Convolution, filtrage, analyse temps-fréquence...).\n",
        "\n",
        "Vous êtes encouragé.es à tenter de développer votre propre réponse aux consignes de chaques exercices. Vous pouvez solliciter l'aide du professeur pour cela.\n",
        "\n",
        "Si l'exercice vous parait trop complexe vous pouvez regarder la solution proposée, et essayer de comprendre et de reproduire son fonctionnement.\n",
        "\n",
        "Validez avec le professeur votre solution/compréhension de la solution avant de passer à l'exercice suivant.\n",
        "\n",
        "## Dos and Don'ts :\n",
        "\n",
        "\n",
        "*   Vous êtes encouragé.es à travailler en binôme/trinôme et à échanger entre vous\n",
        "*   Vous êtes encouragé.es à utiliser vos notes de cours.\n",
        "*   Vous pouvez faire des recherches web et utiliser Stack Overflow pour alimenter vos réponses.\n",
        "*   **ChatGPT ou tout autre LLM sont strictement interdit**\n",
        "\n",
        "L'objectif du TD est de vous mettre en position de réfléchir activement à des questions de traitement du signal **ET** de développer votre autonomie en Python. Chaque exercice peut aisément être résolu par ChatGPT, mais votre apprentissage en sera diminué.\n",
        "\n",
        "Les solutions aux exercices sont fournies dans le document, et vous êtes **très fortement encouragé.es à solliciter le professeur** en cas de blocage/difficulté à comprendre un exercice."
      ],
      "metadata": {
        "id": "ybKSI_C8v62B"
      }
    },
    {
      "cell_type": "markdown",
      "source": [
        "# Importation des bibliothèques Python nécessaires\n",
        "\n",
        "Il existe de nombreuses bibliothèques Python dédiés au traitement du signal. L'objectif aujourd'hui d'implémenter nous même des algorithmes de traitement du signal, et nous n'utiliserons donc pas ces bibliothèques, sauf à des fins de vérification\n",
        "\n"
      ],
      "metadata": {
        "id": "uJYM1ezj3fW_"
      }
    },
    {
      "cell_type": "code",
      "source": [
        "import math\n",
        "import matplotlib.pyplot as plt\n",
        "import numpy as np"
      ],
      "metadata": {
        "id": "BRQHU3J_3f1I"
      },
      "execution_count": null,
      "outputs": []
    },
    {
      "cell_type": "markdown",
      "source": [
        "#  Convolution et Filtrage\n",
        "\n",
        "L'objectif de ce segment est d'implémenter manuellement une convolution discrète, et d'appliquer ce principe au filtrage de donnée bruitées"
      ],
      "metadata": {
        "id": "ypkB4dplwXRC"
      }
    },
    {
      "cell_type": "markdown",
      "source": [
        "### Exercice 1 : Générer un signal bruité\n",
        "\n",
        "Dans un premier temps nous allons créer un signal bruité sur lequel nous allons appliquer nos convolutions. Créez un signal sinusoïdal durant 5 secondes avec une fréquence de 4Hz et un taux d'échantillonnage de 200Hz. Créez ensuite une version bruité de ce signal"
      ],
      "metadata": {
        "id": "lYPsTZZx2irw"
      }
    },
    {
      "cell_type": "code",
      "source": [
        "# Ecrivez votre code ici"
      ],
      "metadata": {
        "id": "QZ81UoHv3GXJ"
      },
      "execution_count": null,
      "outputs": []
    },
    {
      "cell_type": "markdown",
      "source": [
        "#### Solution"
      ],
      "metadata": {
        "id": "9InGiTLl3Ox9"
      }
    },
    {
      "cell_type": "code",
      "source": [
        "# Parameters\n",
        "fs = 200  # Sampling frequency\n",
        "f = 4     # Frequency of the sine wave\n",
        "duration = 2  # seconds\n",
        "time = np.linspace(0, duration, fs*duration)\n",
        "\n",
        "# Generate pure sine wave\n",
        "sine_wave = np.sin(2 * math.pi * f * time)\n",
        "\n",
        "# Création d'une composante alétoire (bruit)\n",
        "noise = 0.5 * np.random.normal(size=time.shape) #le bruit est généré en échantillonnant des nombres aléatoires depuis une distribution normale\n",
        "# Addition du bruit à notre signal originale\n",
        "noisy_signal = sine_wave + noise\n",
        "\n",
        "fig, (ax1, ax2, ax3) = plt.subplots(3,1, sharex = True, figsize = (10,5))\n",
        "ax1.plot(time, sine_wave)\n",
        "ax1.set_title(\"Original pure sine wave\")\n",
        "ax1.set_ylabel(\"Amplitude\")\n",
        "ax1.grid()\n",
        "\n",
        "ax2.plot(time, noise)\n",
        "ax2.set_title(\"Artificial noise over time\")\n",
        "ax2.set_ylabel(\"Amplitude\")\n",
        "ax2.grid()\n",
        "\n",
        "ax3.plot(time, noisy_signal)\n",
        "ax3.set_title(\"Signal Bruité\")\n",
        "ax3.set_xlabel(\"Temps (s)\")\n",
        "ax3.set_ylabel(\"Amplitude\")\n",
        "ax3.grid()\n",
        "\n",
        "plt.tight_layout()\n",
        "plt.show()\n"
      ],
      "metadata": {
        "id": "jyNwrzje3MJD"
      },
      "execution_count": null,
      "outputs": []
    },
    {
      "cell_type": "markdown",
      "source": [
        "### Exercice 2 : Générer une fonction square\n",
        "\n",
        "Générer une fonction square de largeur 50ms et d'amplitude"
      ],
      "metadata": {
        "id": "R-3jCzoL9h5B"
      }
    },
    {
      "cell_type": "code",
      "source": [
        "# Ecrivez votre code ici"
      ],
      "metadata": {
        "id": "qDNNEcq5J8a5"
      },
      "execution_count": null,
      "outputs": []
    },
    {
      "cell_type": "markdown",
      "source": [
        "#### Solution"
      ],
      "metadata": {
        "id": "9HCc0kILOTjx"
      }
    },
    {
      "cell_type": "code",
      "source": [
        "# Define square pulse (moving average filter)\n",
        "pulse_duration = 0.05 #Durée de la fonction square en secondes\n",
        "pulse_width = int(pulse_duration*fs)  # Number of samples in the pulse\n",
        "time_pulse = np.arange(0, pulse_width) / fs  # Time axis for square pulse\n",
        "square_pulse = np.ones(pulse_width) /pulse_width\n",
        "\n",
        "plt.stem(square_pulse)\n",
        "plt.title('Square Pulse (Filter Kernel) in Time')\n",
        "plt.xlabel('Time [s]')\n",
        "plt.ylabel('Amplitude')\n",
        "plt.grid()\n",
        "plt.show()"
      ],
      "metadata": {
        "id": "kFlKxTwS9nPU"
      },
      "execution_count": null,
      "outputs": []
    },
    {
      "cell_type": "markdown",
      "source": [
        "### Exercice 3 : Convoluez le signal bruité avec la fonction square.\n",
        "\n",
        "Vous pouvez utiliser la formule suivante issue du cours\n",
        "\n",
        "![Capture d'écran 2025-03-26 115219.png](data:image/png;base64,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)"
      ],
      "metadata": {
        "id": "rokFQ0yy2BHr"
      }
    },
    {
      "cell_type": "code",
      "source": [
        "# Ecrivez votre code ici"
      ],
      "metadata": {
        "id": "-cwZpwonOi9l"
      },
      "execution_count": null,
      "outputs": []
    },
    {
      "cell_type": "markdown",
      "source": [
        "#### Solution"
      ],
      "metadata": {
        "id": "4VkKPfKhOkwS"
      }
    },
    {
      "cell_type": "code",
      "execution_count": null,
      "metadata": {
        "id": "D29xi6YgvtuN"
      },
      "outputs": [],
      "source": [
        "convolved_signal = []\n",
        "pad_size = len(square_pulse) // 2\n",
        "padded_signal = np.hstack((np.zeros(pad_size), noisy_signal, np.zeros(pad_size)))\n",
        "\n",
        "for i in range(0, len(padded_signal)-len(square_pulse)):\n",
        "    sum_value = 0\n",
        "    for j in range(0, len(square_pulse)):\n",
        "        sum_value += padded_signal[i + j] * square_pulse[j]\n",
        "    convolved_signal.append(sum_value)\n",
        "\n",
        "\n",
        "\n",
        "#filtered_signal = np.convolve(noisy_signal, square_pulse, mode='same')\n",
        "fig, (ax1,ax2) = plt.subplots(2,1, sharex = True, figsize = (10,5))\n",
        "ax1.plot(time, noisy_signal, linestyle = '-', alpha = 0.5)\n",
        "ax1.plot(time,sine_wave)\n",
        "ax1.set_title('Superposition du signal pur et du signal bruité')\n",
        "ax1.set_ylabel('Amplitude')\n",
        "ax1.grid()\n",
        "ax2.plot(time, noisy_signal, linestyle = '-', alpha = 0.5)\n",
        "ax2.plot(time,convolved_signal)\n",
        "ax2.set_title('Superposition du signal bruité et du produit de convolution')\n",
        "ax2.set_xlabel('Temps (s)')\n",
        "ax2.set_ylabel('Amplitude')\n",
        "ax2.grid()\n",
        "plt.tight_layout()\n",
        "plt.show()"
      ]
    },
    {
      "cell_type": "markdown",
      "source": [
        "### Exercice 4 : Effet de la durée de la fonction square\n",
        "\n",
        "Répetez les exercices 2 et 3 faisant varier la durée de la fonction square. Qu'observez-vous?"
      ],
      "metadata": {
        "id": "ZtEtT3LEJqqg"
      }
    },
    {
      "cell_type": "code",
      "source": [
        "# Ecrivez votre code ici"
      ],
      "metadata": {
        "id": "c-TdXRYCJosC"
      },
      "execution_count": null,
      "outputs": []
    },
    {
      "cell_type": "markdown",
      "source": [
        "### Question :  D'après le cours et vos propres recherches, à quelle opération correspond la convolution d'un signal par une fonction square?"
      ],
      "metadata": {
        "id": "slHhYqPaJT4F"
      }
    },
    {
      "cell_type": "code",
      "source": [
        "# Votre réponse ici"
      ],
      "metadata": {
        "id": "j8y2v8dcOEsd"
      },
      "execution_count": null,
      "outputs": []
    },
    {
      "cell_type": "markdown",
      "source": [
        "## Exercice 5 : Utiliser la convolution pour filter un signal\n",
        "\n",
        "Dans l'exercice suivant la fonction butterworth_impulse response vous permet d'obtenir la réponse impulsionnelle d'un filtre de butterworth passe-bas\n",
        "\n",
        "En vous basant sur le cours, utiliser la réponse à l'exercice sur la convolution pour appliquer ce filtre à notre signal bruité"
      ],
      "metadata": {
        "id": "nherVuWEwhSS"
      }
    },
    {
      "cell_type": "code",
      "source": [
        "# Votre réponse ici"
      ],
      "metadata": {
        "id": "6ZMdO7AGfVCw"
      },
      "execution_count": null,
      "outputs": []
    },
    {
      "cell_type": "code",
      "source": [
        "def butterworth_impulse_response(fs, num_samples, cutoff=6, order=2):\n",
        "    import scipy.signal as signal\n",
        "    b, a = signal.butter(order, cutoff, btype='low', analog=False, fs = fs)\n",
        "    impulse = np.zeros(num_samples)\n",
        "    impulse[0] = 1  # Define impulse input\n",
        "    impulse_response = signal.lfilter(b, a, impulse)\n",
        "\n",
        "    w, h = signal.freqz(b)\n",
        "\n",
        "    return  [w,h], impulse_response\n",
        "\n",
        "# Example usage\n",
        "filter_duration = 0.2 #Durée temporelle de notre filtre\n",
        "num_samples = int(fs*filter_duration)  # Nombre d'échantillon de notre réponse impulsionnelle\n",
        "transfer_function, impulse_response = butterworth_impulse_response(fs, num_samples,cutoff = 6, order = 5)\n",
        "\n",
        "\n",
        "## Convolution de notre signal avec la réponse impulsionnelle (note, il s'agit exactement de la même formule de convolution\n",
        "## que dans l'exercice 3)\n",
        "convolved_signal = []\n",
        "pad_size = len(impulse_response) // 2\n",
        "padded_signal = np.hstack((np.zeros(pad_size), noisy_signal, np.zeros(pad_size)))\n",
        "for i in range(0, len(padded_signal)-len(impulse_response)):\n",
        "    sum_value = 0\n",
        "    for j in range(0, len(impulse_response)):\n",
        "        sum_value += padded_signal[i + j] * impulse_response[j]\n",
        "    convolved_signal.append(sum_value)\n",
        "\n",
        "\n",
        "fig = plt.figure(figsize = (10,5))\n",
        "gs = fig.add_gridspec(2,2)\n",
        "ax1 = fig.add_subplot(gs[0, 0])\n",
        "ax2 = fig.add_subplot(gs[0, 1])\n",
        "ax3 = fig.add_subplot(gs[1, :])\n",
        "\n",
        "ax1.plot(impulse_response)\n",
        "ax1.set_xlabel('Temps (s)')\n",
        "ax1.set_ylabel('Amplitude')\n",
        "ax1.set_title(\"Fonction impulsionnelle\")\n",
        "ax1.grid()\n",
        "ax2.plot(transfer_function[0], np.log10(abs(transfer_function[1])))\n",
        "ax2.set_xlabel('Fréquence (Hz)')\n",
        "ax2.set_ylabel('Atténuation')\n",
        "ax2.set_title(\"Fonction de Transfert\")\n",
        "ax2.grid()\n",
        "ax3.plot(time, noisy_signal, label = 'Or. Signal')\n",
        "ax3.plot(time, convolved_signal, label = 'Filt. Signal')\n",
        "ax3.set_xlabel('Temps (s)')\n",
        "ax3.set_ylabel('Amplitude')\n",
        "ax3.set_title(\"Signal original et signal filtré\")\n",
        "ax3.grid()\n",
        "ax3.legend()\n",
        "plt.tight_layout()\n",
        "plt.show()"
      ],
      "metadata": {
        "id": "ELmJVESYS-KW"
      },
      "execution_count": null,
      "outputs": []
    },
    {
      "cell_type": "markdown",
      "source": [
        "### Question : Qu'observez-vous si vous utiliser une fréquence de cut-off inférieure à la fréquence de notre sinusoïde pure (par exemple 2)? Expliquez ce résultat."
      ],
      "metadata": {
        "id": "NMDDtT7BfvmH"
      }
    },
    {
      "cell_type": "code",
      "source": [
        "# Votre réponse"
      ],
      "metadata": {
        "id": "bN4jMz-ZgRiH"
      },
      "execution_count": null,
      "outputs": []
    },
    {
      "cell_type": "markdown",
      "source": [
        "# Analyse Temps-Fréquence"
      ],
      "metadata": {
        "id": "1jobQqE81hVa"
      }
    },
    {
      "cell_type": "markdown",
      "source": [
        "### Exercice 6 :  Génération d'un signal non stationnaire complexe\n",
        "\n",
        "Générez un signal non-stationnaire échantillonné à 200Hz ayant 3 segments de 1 secondes chacun composé de 3 sinusoïdes pures ayant des caractéristiques différentes"
      ],
      "metadata": {
        "id": "WaQU8uelkyEX"
      }
    },
    {
      "cell_type": "code",
      "source": [
        "# Votre réponse"
      ],
      "metadata": {
        "id": "4TdSo_8klNho"
      },
      "execution_count": null,
      "outputs": []
    },
    {
      "cell_type": "markdown",
      "source": [
        "#### Solution"
      ],
      "metadata": {
        "id": "pU3Cxf8flUBw"
      }
    },
    {
      "cell_type": "code",
      "source": [
        "fs = 200  # Fréquence d'échantillonnage\n",
        "T = 3     # Duré du signal\n",
        "N = fs * T  # Nombre d'échantillon\n",
        "time = np.linspace(0, T, N)  # Time vector\n",
        "\n",
        "# Time segments for the composite signal\n",
        "segment_duration = 1  # Duration of each segment in seconds\n",
        "segment_samples = int(fs * segment_duration)  # Number of samples per segment\n",
        "\n",
        "# Frequencies and amplitudes for each segment\n",
        "segments = [\n",
        "    [(3, 0.8), (50, 0.2), (32, 0.5)],  # Segment 1: 3Hz, 50Hz, 32Hz\n",
        "    [(55, 0.9), (11, 0.3), (70, 0.1)],  # Segment 2: 5Hz, 30Hz, 70Hz\n",
        "    [(14, 0.6), (28, 0.4), (2, 0.2)],  # Segment 3: 10Hz, 60Hz, 100Hz\n",
        "]\n",
        "\n",
        "# Create a non-stationary signal by concatenating different composite signals\n",
        "ns_signal = np.zeros_like(time)\n",
        "for i, segment in enumerate(segments):\n",
        "    # Time segment range\n",
        "    start_idx = i * segment_samples\n",
        "    end_idx = start_idx + segment_samples\n",
        "    time_segment = time[start_idx:end_idx]\n",
        "\n",
        "    # Add sinusoids to the segment\n",
        "    segment_signal = np.zeros_like(time_segment)\n",
        "    for freq, amp in segment:\n",
        "        segment_signal += amp * np.sin(2 * np.pi * freq * time_segment)\n",
        "\n",
        "    # Add the segment signal to the overall signal\n",
        "    ns_signal[start_idx:end_idx] = segment_signal\n",
        "\n",
        "# Plot signal in time domain\n",
        "plt.figure(figsize = (10,5))\n",
        "plt.plot(time, ns_signal)\n",
        "plt.title(\"Signal Non-stationnaire\")\n",
        "plt.ylabel(\"Amplitude\")\n",
        "plt.xlabel(\"Temps (s)\")\n",
        "plt.axvline(1, color =  'k', linestyle = '--')\n",
        "plt.axvline(2, color =  'k', linestyle = '--')\n",
        "plt.grid()\n",
        "plt.show()"
      ],
      "metadata": {
        "id": "vkT3nVNNlTgQ"
      },
      "execution_count": null,
      "outputs": []
    },
    {
      "cell_type": "markdown",
      "source": [
        "### Exercice 7 : Générer un spectrogramme\n",
        "\n",
        "En utilisant la fonction scipy.signal stft, appliquez une short-time Fourier transforme à notre signal non stationnaire, et générer un graph du contenu fréquentiel au cours du temps"
      ],
      "metadata": {
        "id": "6CVoizf8lsdq"
      }
    },
    {
      "cell_type": "code",
      "source": [
        " # Votre réponse"
      ],
      "metadata": {
        "id": "3tocUOpvmzos"
      },
      "execution_count": null,
      "outputs": []
    },
    {
      "cell_type": "markdown",
      "source": [
        "#### Solution"
      ],
      "metadata": {
        "id": "4yPPTcdIsbQB"
      }
    },
    {
      "cell_type": "code",
      "source": [
        "from scipy.signal import stft\n",
        "\n",
        "# Application de la Short-Time Fourier Transform (STFT) bia scipy's stft\n",
        "window_duration = 0.5# Durée de la fenêtre dans laquelle chaque fft sera calculée\n",
        "window_size = int(window_duration*fs) # Nombre d'échantillon correspondant à notre fenêtre\n",
        "overlap = window_size // 2  # Overlap entre nos fenêtres d'analyse\n",
        "\n",
        "# Compute STFT\n",
        "f_stft, t_stft, Zxx = stft(ns_signal, fs, nperseg=window_size, noverlap=overlap)\n",
        "\n",
        "# Plot signal in time domain\n",
        "fig, (ax1, ax2) = plt.subplots(2,1,figsize=(10, 8), sharex = True)\n",
        "\n",
        "# Subplot 1: Time-domain signal\n",
        "ax1.plot(time, ns_signal)\n",
        "ax1.set_title(\"Signal Non-stationnaire\")\n",
        "ax1.set_ylabel(\"Amplitude\")\n",
        "ax1.axvline(1, color =  'k', linestyle = '--')\n",
        "ax1.axvline(2, color =  'k', linestyle = '--')\n",
        "ax1.grid()\n",
        "\n",
        "# Subplot 2: Power Spectrum over Time (Spectrogram)\n",
        "ax2.pcolormesh(t_stft, f_stft, np.abs(Zxx)**2)  # Power spectrum (magnitude squared)\n",
        "ax2.set_title(\"Spectrogramme\")\n",
        "ax2.set_xlabel(\"Temps [s]\")\n",
        "ax2.set_ylabel(\"Fréquence [Hz]\")\n",
        "ax2.axvline(1, color =  'w', linestyle = '--')\n",
        "ax2.axvline(2, color =  'w', linestyle = '--')\n",
        "c = ax2.pcolor(t_stft, f_stft, np.abs(Zxx)**2)\n",
        "fig.colorbar(c, ax=ax2,orientation='horizontal', label = 'Power')\n",
        "ax2.grid()\n",
        "\n",
        "plt.tight_layout()\n",
        "plt.show()\n"
      ],
      "metadata": {
        "id": "b2ltKsJdiTOS"
      },
      "execution_count": null,
      "outputs": []
    },
    {
      "cell_type": "markdown",
      "source": [
        "#### Question : Quel effet observez vous lorsque vous manipulez la durée de la fenêtre durant laquelle chaque transformée de Fourier est appliquée?"
      ],
      "metadata": {
        "id": "fsvqlmBRq68C"
      }
    },
    {
      "cell_type": "code",
      "source": [
        "# Votre réponse"
      ],
      "metadata": {
        "id": "CMMhcYUqj7tz"
      },
      "execution_count": null,
      "outputs": []
    }
  ]
}